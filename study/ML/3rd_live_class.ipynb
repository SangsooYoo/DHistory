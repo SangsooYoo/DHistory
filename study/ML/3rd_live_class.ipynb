{
  "nbformat": 4,
  "nbformat_minor": 0,
  "metadata": {
    "colab": {
      "name": "Untitled0.ipynb",
      "provenance": [],
      "collapsed_sections": [],
      "authorship_tag": "ABX9TyNWD9amBiG6uZFazQfyC8zF",
      "include_colab_link": true
    },
    "kernelspec": {
      "name": "python3",
      "display_name": "Python 3"
    },
    "language_info": {
      "name": "python"
    },
    "accelerator": "GPU"
  },
  "cells": [
    {
      "cell_type": "markdown",
      "metadata": {
        "id": "view-in-github",
        "colab_type": "text"
      },
      "source": [
        "<a href=\"https://colab.research.google.com/github/SangsooYoo/DHistory/blob/master/study/ML/3rd_live_class.ipynb\" target=\"_parent\"><img src=\"https://colab.research.google.com/assets/colab-badge.svg\" alt=\"Open In Colab\"/></a>"
      ]
    },
    {
      "cell_type": "code",
      "execution_count": null,
      "metadata": {},
      "outputs": [
        {
          "output_type": "error",
          "ename": "Error",
          "evalue": "IPyKernel not installed into interpreter Python 2.7.16 64-bit:/usr/bin/python",
          "traceback": [
            "Error: IPyKernel not installed into interpreter Python 2.7.16 64-bit:/usr/bin/python",
            "at w.handleKernelDependencyResponse (/Users/ssyoo/.vscode/extensions/ms-toolsai.jupyter-2021.6.999406279/out/client/extension.js:90:244702)",
            "at w.installMissingDependencies (/Users/ssyoo/.vscode/extensions/ms-toolsai.jupyter-2021.6.999406279/out/client/extension.js:90:244075)",
            "at processTicksAndRejections (internal/process/task_queues.js:93:5)"
          ]
        }
      ],
      "source": []
    },
    {
      "cell_type": "code",
      "metadata": {
        "colab": {
          "base_uri": "https://localhost:8080/"
        },
        "id": "iwGI-CRJrmLf",
        "outputId": "5d52a8bb-96f4-47a5-d214-f1f109bea261"
      },
      "source": [
        "!nvidia-smi"
      ],
      "execution_count": 2,
      "outputs": [
        {
          "output_type": "stream",
          "text": [
            "Fri Jun 25 10:18:59 2021       \n",
            "+-----------------------------------------------------------------------------+\n",
            "| NVIDIA-SMI 465.27       Driver Version: 460.32.03    CUDA Version: 11.2     |\n",
            "|-------------------------------+----------------------+----------------------+\n",
            "| GPU  Name        Persistence-M| Bus-Id        Disp.A | Volatile Uncorr. ECC |\n",
            "| Fan  Temp  Perf  Pwr:Usage/Cap|         Memory-Usage | GPU-Util  Compute M. |\n",
            "|                               |                      |               MIG M. |\n",
            "|===============================+======================+======================|\n",
            "|   0  Tesla K80           Off  | 00000000:00:04.0 Off |                    0 |\n",
            "| N/A   33C    P8    29W / 149W |      0MiB / 11441MiB |      0%      Default |\n",
            "|                               |                      |                  N/A |\n",
            "+-------------------------------+----------------------+----------------------+\n",
            "                                                                               \n",
            "+-----------------------------------------------------------------------------+\n",
            "| Processes:                                                                  |\n",
            "|  GPU   GI   CI        PID   Type   Process name                  GPU Memory |\n",
            "|        ID   ID                                                   Usage      |\n",
            "|=============================================================================|\n",
            "|  No running processes found                                                 |\n",
            "+-----------------------------------------------------------------------------+\n"
          ],
          "name": "stdout"
        }
      ]
    },
    {
      "cell_type": "code",
      "metadata": {
        "id": "fh79Vum2tHIK"
      },
      "source": [
        "import tensorflow as tf\n",
        "from tensorflow import keras\n",
        "from matplotlib import pyplot as plt"
      ],
      "execution_count": 48,
      "outputs": []
    },
    {
      "cell_type": "markdown",
      "metadata": {
        "id": "6holmAgBr9p7"
      },
      "source": [
        "Transfer Learning을 통한 Cats and Dogs 데이터셋 분류 성능 개선"
      ]
    },
    {
      "cell_type": "markdown",
      "metadata": {
        "id": "p2vIzsoEtAm1"
      },
      "source": [
        "Step 1. input tensor와 target tensor준비"
      ]
    },
    {
      "cell_type": "markdown",
      "metadata": {
        "id": "MUYcFX5StckB"
      },
      "source": [
        "(1) Cats and Dogs 데이터셋 다운로드"
      ]
    },
    {
      "cell_type": "code",
      "metadata": {
        "id": "B3xbsQfws7o4"
      },
      "source": [
        "url ='https://storage.googleapis.com/mledu-datasets/cats_and_dogs_filtered.zip'"
      ],
      "execution_count": 6,
      "outputs": []
    },
    {
      "cell_type": "code",
      "metadata": {
        "colab": {
          "base_uri": "https://localhost:8080/",
          "height": 35
        },
        "id": "dvHBVwhstiZB",
        "outputId": "ff46ee17-834a-4fb5-a72f-4b5644acb0ea"
      },
      "source": [
        "keras.utils.get_file(fname='cats_and_dogs_filtered.zip', \n",
        "                     origin=url, \n",
        "                     extract=True, \n",
        "                     cache_dir='/content')"
      ],
      "execution_count": 11,
      "outputs": [
        {
          "output_type": "execute_result",
          "data": {
            "application/vnd.google.colaboratory.intrinsic+json": {
              "type": "string"
            },
            "text/plain": [
              "'/content/datasets/cats_and_dogs_filtered.zip'"
            ]
          },
          "metadata": {
            "tags": []
          },
          "execution_count": 11
        }
      ]
    },
    {
      "cell_type": "markdown",
      "metadata": {
        "id": "AWPZvxnXuuiX"
      },
      "source": [
        "(2) ImageDataGenerator를 이용해 이미지 파일을 load하기위한 경로 지정"
      ]
    },
    {
      "cell_type": "code",
      "metadata": {
        "id": "qRjESl-Mu1M_"
      },
      "source": [
        "train_dir = '/content/datasets/cats_and_dogs_filtered/train'\n",
        "validation_dir = '/content/datasets/cats_and_dogs_filtered/validation'"
      ],
      "execution_count": 12,
      "outputs": []
    },
    {
      "cell_type": "markdown",
      "metadata": {
        "id": "xcjmeaDCu1th"
      },
      "source": [
        "(3) ImageDataGenerator객체 생성"
      ]
    },
    {
      "cell_type": "code",
      "metadata": {
        "id": "USQ0ZOYFwwIq"
      },
      "source": [
        "from tensorflow.keras.preprocessing.image import ImageDataGenerator\n",
        "train_gen = ImageDataGenerator(rescale=1./255.)\n",
        "validation_gen = ImageDataGenerator(rescale=1./255.) "
      ],
      "execution_count": 15,
      "outputs": []
    },
    {
      "cell_type": "markdown",
      "metadata": {
        "id": "6cGnQIoQwvpC"
      },
      "source": [
        ".flow_from_directory()메서드를 이용하여 학습데이터와 검증데이터를 위한 DirectoryIterator객체 생성"
      ]
    },
    {
      "cell_type": "code",
      "metadata": {
        "colab": {
          "base_uri": "https://localhost:8080/"
        },
        "id": "mzFWCx0fyjUq",
        "outputId": "2a98bb00-b2b4-479a-c0b2-7bbfcdeabe85"
      },
      "source": [
        "train_generator = train_gen.flow_from_directory(directory=train_dir, \n",
        "                              target_size = (224,224),\n",
        "                              batch_size=32,\n",
        "                              shuffle=True,\n",
        "                              class_mode='binary')"
      ],
      "execution_count": 17,
      "outputs": [
        {
          "output_type": "stream",
          "text": [
            "Found 2000 images belonging to 2 classes.\n"
          ],
          "name": "stdout"
        }
      ]
    },
    {
      "cell_type": "code",
      "metadata": {
        "colab": {
          "base_uri": "https://localhost:8080/"
        },
        "id": "ovLCS6Ki0wPD",
        "outputId": "4aa95533-6f0e-4862-d401-24af840f0233"
      },
      "source": [
        "x, y = next(train_generator)\n",
        "x.shape"
      ],
      "execution_count": 22,
      "outputs": [
        {
          "output_type": "execute_result",
          "data": {
            "text/plain": [
              "(32, 224, 224, 3)"
            ]
          },
          "metadata": {
            "tags": []
          },
          "execution_count": 22
        }
      ]
    },
    {
      "cell_type": "code",
      "metadata": {
        "colab": {
          "base_uri": "https://localhost:8080/"
        },
        "id": "X-WJKcB71Glc",
        "outputId": "808f9ae6-0f7f-489c-c3d9-1180162c167b"
      },
      "source": [
        "y.shape"
      ],
      "execution_count": 23,
      "outputs": [
        {
          "output_type": "execute_result",
          "data": {
            "text/plain": [
              "(32,)"
            ]
          },
          "metadata": {
            "tags": []
          },
          "execution_count": 23
        }
      ]
    },
    {
      "cell_type": "code",
      "metadata": {
        "colab": {
          "base_uri": "https://localhost:8080/"
        },
        "id": "pVn4N6Kz1IDG",
        "outputId": "492702b9-e91a-48db-a95a-92b5dc09ae08"
      },
      "source": [
        "y"
      ],
      "execution_count": 24,
      "outputs": [
        {
          "output_type": "execute_result",
          "data": {
            "text/plain": [
              "array([0., 1., 0., 0., 1., 0., 0., 0., 0., 1., 1., 1., 0., 0., 0., 1., 0.,\n",
              "       1., 1., 1., 0., 1., 0., 0., 1., 0., 1., 0., 1., 1., 0., 1.],\n",
              "      dtype=float32)"
            ]
          },
          "metadata": {
            "tags": []
          },
          "execution_count": 24
        }
      ]
    },
    {
      "cell_type": "markdown",
      "metadata": {
        "id": "1elAQmNZwvlK"
      },
      "source": []
    },
    {
      "cell_type": "code",
      "metadata": {
        "colab": {
          "base_uri": "https://localhost:8080/"
        },
        "id": "w5fHQ-4T1OnC",
        "outputId": "fbea1050-2e80-4247-902c-4c654dcb5ed8"
      },
      "source": [
        "validation_generator = train_gen.flow_from_directory(directory=validation_dir, \n",
        "                              target_size = (224,224),\n",
        "                              batch_size=32,\n",
        "                              class_mode='binary')"
      ],
      "execution_count": 25,
      "outputs": [
        {
          "output_type": "stream",
          "text": [
            "Found 1000 images belonging to 2 classes.\n"
          ],
          "name": "stdout"
        }
      ]
    },
    {
      "cell_type": "markdown",
      "metadata": {
        "id": "IzP0asNG13lQ"
      },
      "source": [
        "Step 2. VGG16을 Backbone으로 하는 모델 디자인 및 학습정보 설정\n",
        "(1)Pre-trained된 VGG16모델 객체 생성\n",
        "\n",
        "\n",
        "*   imagenet 데이터를 이용해 학습된 모델 객체생성\n",
        "*   classification layer 제외\n",
        "\n"
      ]
    },
    {
      "cell_type": "code",
      "metadata": {
        "id": "QRQaS0dn3HBs"
      },
      "source": [
        "from tensorflow.keras.applications import VGG16"
      ],
      "execution_count": 28,
      "outputs": []
    },
    {
      "cell_type": "code",
      "metadata": {
        "id": "LHljdchS3XlW"
      },
      "source": [
        "conv_base = VGG16(include_top=False, weights='imagenet', input_shape=(224, 224, 3))"
      ],
      "execution_count": 35,
      "outputs": []
    },
    {
      "cell_type": "code",
      "metadata": {
        "id": "0DL1YaL94-Dk"
      },
      "source": [
        "model = keras.models.Sequential()\n",
        "model.add(conv_base)\n",
        "model.add(keras.layers.Flatten())\n",
        "model.add(keras.layers.Dense(units=256, activation='relu'))\n",
        "model.add(keras.layers.Dense(units=1, activation='sigmoid'))"
      ],
      "execution_count": 36,
      "outputs": []
    },
    {
      "cell_type": "code",
      "metadata": {
        "colab": {
          "base_uri": "https://localhost:8080/"
        },
        "id": "KGmrZRVd58PB",
        "outputId": "0a886838-cf45-47cd-f201-8e186b29d43a"
      },
      "source": [
        "model.summary()"
      ],
      "execution_count": 37,
      "outputs": [
        {
          "output_type": "stream",
          "text": [
            "Model: \"sequential_4\"\n",
            "_________________________________________________________________\n",
            "Layer (type)                 Output Shape              Param #   \n",
            "=================================================================\n",
            "vgg16 (Functional)           (None, 7, 7, 512)         14714688  \n",
            "_________________________________________________________________\n",
            "flatten_2 (Flatten)          (None, 25088)             0         \n",
            "_________________________________________________________________\n",
            "dense_1 (Dense)              (None, 256)               6422784   \n",
            "_________________________________________________________________\n",
            "dense_2 (Dense)              (None, 1)                 257       \n",
            "=================================================================\n",
            "Total params: 21,137,729\n",
            "Trainable params: 21,137,729\n",
            "Non-trainable params: 0\n",
            "_________________________________________________________________\n"
          ],
          "name": "stdout"
        }
      ]
    },
    {
      "cell_type": "markdown",
      "metadata": {
        "id": "MzmEzFWk6GCb"
      },
      "source": [
        "(3) VGG16 Backbone 모델의 가중치 동결(학습대상 가중치에서 제외)\n"
      ]
    },
    {
      "cell_type": "code",
      "metadata": {
        "id": "tyKQ_sy26qpc"
      },
      "source": [
        "conv_base.trainable = False"
      ],
      "execution_count": 38,
      "outputs": []
    },
    {
      "cell_type": "code",
      "metadata": {
        "colab": {
          "base_uri": "https://localhost:8080/"
        },
        "id": "QUDRXW7k650i",
        "outputId": "af045d5b-b459-4154-8015-a79213b89eb4"
      },
      "source": [
        "model.summary()"
      ],
      "execution_count": 39,
      "outputs": [
        {
          "output_type": "stream",
          "text": [
            "Model: \"sequential_4\"\n",
            "_________________________________________________________________\n",
            "Layer (type)                 Output Shape              Param #   \n",
            "=================================================================\n",
            "vgg16 (Functional)           (None, 7, 7, 512)         14714688  \n",
            "_________________________________________________________________\n",
            "flatten_2 (Flatten)          (None, 25088)             0         \n",
            "_________________________________________________________________\n",
            "dense_1 (Dense)              (None, 256)               6422784   \n",
            "_________________________________________________________________\n",
            "dense_2 (Dense)              (None, 1)                 257       \n",
            "=================================================================\n",
            "Total params: 21,137,729\n",
            "Trainable params: 6,423,041\n",
            "Non-trainable params: 14,714,688\n",
            "_________________________________________________________________\n"
          ],
          "name": "stdout"
        }
      ]
    },
    {
      "cell_type": "code",
      "metadata": {
        "id": "twcMsa968avd"
      },
      "source": [
        "model.compile(optimizer=keras.optimizers.RMSprop(learning_rate=2e-5), \n",
        "              loss='binary_crossentropy',\n",
        "              metrics=['accuracy'])"
      ],
      "execution_count": 41,
      "outputs": []
    },
    {
      "cell_type": "markdown",
      "metadata": {
        "id": "_93YM7j-81ll"
      },
      "source": [
        "step3. 모델에 데이터 제너레이터 연결 후 학습\n",
        "model.fit() 이용하여 데이터 연결 및 학습시키기 \n",
        "학습 과정은 history 변수에 저장됨"
      ]
    },
    {
      "cell_type": "code",
      "metadata": {
        "colab": {
          "base_uri": "https://localhost:8080/"
        },
        "id": "d1vdAsyu80dt",
        "outputId": "d2639fb3-6988-4c38-ba0d-4f902db653f0"
      },
      "source": [
        "history = model.fit( train_generator, \n",
        "                    epochs=30, \n",
        "                    steps_per_epoch=len(train_generator), \n",
        "                    validation_data=validation_generator, \n",
        "                    validation_steps=len(validation_generator) )"
      ],
      "execution_count": 43,
      "outputs": [
        {
          "output_type": "stream",
          "text": [
            "Epoch 1/30\n",
            "63/63 [==============================] - 25s 401ms/step - loss: 0.2890 - accuracy: 0.8910 - val_loss: 0.2718 - val_accuracy: 0.8930\n",
            "Epoch 2/30\n",
            "63/63 [==============================] - 22s 348ms/step - loss: 0.2178 - accuracy: 0.9250 - val_loss: 0.2475 - val_accuracy: 0.9050\n",
            "Epoch 3/30\n",
            "63/63 [==============================] - 22s 350ms/step - loss: 0.1709 - accuracy: 0.9440 - val_loss: 0.2448 - val_accuracy: 0.8980\n",
            "Epoch 4/30\n",
            "63/63 [==============================] - 22s 350ms/step - loss: 0.1439 - accuracy: 0.9555 - val_loss: 0.2195 - val_accuracy: 0.9140\n",
            "Epoch 5/30\n",
            "63/63 [==============================] - 22s 352ms/step - loss: 0.1203 - accuracy: 0.9655 - val_loss: 0.2150 - val_accuracy: 0.9120\n",
            "Epoch 6/30\n",
            "63/63 [==============================] - 22s 350ms/step - loss: 0.0998 - accuracy: 0.9730 - val_loss: 0.2280 - val_accuracy: 0.9060\n",
            "Epoch 7/30\n",
            "63/63 [==============================] - 22s 352ms/step - loss: 0.0881 - accuracy: 0.9790 - val_loss: 0.2118 - val_accuracy: 0.9160\n",
            "Epoch 8/30\n",
            "63/63 [==============================] - 22s 350ms/step - loss: 0.0713 - accuracy: 0.9870 - val_loss: 0.2433 - val_accuracy: 0.8980\n",
            "Epoch 9/30\n",
            "63/63 [==============================] - 22s 349ms/step - loss: 0.0610 - accuracy: 0.9895 - val_loss: 0.2385 - val_accuracy: 0.9020\n",
            "Epoch 10/30\n",
            "63/63 [==============================] - 22s 349ms/step - loss: 0.0536 - accuracy: 0.9930 - val_loss: 0.2088 - val_accuracy: 0.9140\n",
            "Epoch 11/30\n",
            "63/63 [==============================] - 22s 350ms/step - loss: 0.0437 - accuracy: 0.9940 - val_loss: 0.2098 - val_accuracy: 0.9190\n",
            "Epoch 12/30\n",
            "63/63 [==============================] - 22s 350ms/step - loss: 0.0364 - accuracy: 0.9975 - val_loss: 0.2138 - val_accuracy: 0.9170\n",
            "Epoch 13/30\n",
            "63/63 [==============================] - 22s 350ms/step - loss: 0.0314 - accuracy: 0.9980 - val_loss: 0.2649 - val_accuracy: 0.8960\n",
            "Epoch 14/30\n",
            "63/63 [==============================] - 22s 350ms/step - loss: 0.0269 - accuracy: 0.9980 - val_loss: 0.2146 - val_accuracy: 0.9200\n",
            "Epoch 15/30\n",
            "63/63 [==============================] - 22s 350ms/step - loss: 0.0223 - accuracy: 0.9995 - val_loss: 0.2180 - val_accuracy: 0.9140\n",
            "Epoch 16/30\n",
            "63/63 [==============================] - 22s 350ms/step - loss: 0.0184 - accuracy: 0.9995 - val_loss: 0.2229 - val_accuracy: 0.9120\n",
            "Epoch 17/30\n",
            "63/63 [==============================] - 22s 350ms/step - loss: 0.0160 - accuracy: 0.9995 - val_loss: 0.2229 - val_accuracy: 0.9150\n",
            "Epoch 18/30\n",
            "63/63 [==============================] - 22s 350ms/step - loss: 0.0138 - accuracy: 0.9995 - val_loss: 0.2303 - val_accuracy: 0.9160\n",
            "Epoch 19/30\n",
            "63/63 [==============================] - 22s 350ms/step - loss: 0.0111 - accuracy: 1.0000 - val_loss: 0.2312 - val_accuracy: 0.9140\n",
            "Epoch 20/30\n",
            "63/63 [==============================] - 22s 350ms/step - loss: 0.0100 - accuracy: 1.0000 - val_loss: 0.2357 - val_accuracy: 0.9150\n",
            "Epoch 21/30\n",
            "63/63 [==============================] - 22s 350ms/step - loss: 0.0075 - accuracy: 1.0000 - val_loss: 0.2447 - val_accuracy: 0.9120\n",
            "Epoch 22/30\n",
            "63/63 [==============================] - 22s 351ms/step - loss: 0.0065 - accuracy: 1.0000 - val_loss: 0.2457 - val_accuracy: 0.9150\n",
            "Epoch 23/30\n",
            "63/63 [==============================] - 22s 349ms/step - loss: 0.0058 - accuracy: 1.0000 - val_loss: 0.2499 - val_accuracy: 0.9120\n",
            "Epoch 24/30\n",
            "63/63 [==============================] - 22s 351ms/step - loss: 0.0049 - accuracy: 1.0000 - val_loss: 0.2579 - val_accuracy: 0.9080\n",
            "Epoch 25/30\n",
            "63/63 [==============================] - 22s 350ms/step - loss: 0.0037 - accuracy: 1.0000 - val_loss: 0.2618 - val_accuracy: 0.9090\n",
            "Epoch 26/30\n",
            "63/63 [==============================] - 22s 350ms/step - loss: 0.0032 - accuracy: 1.0000 - val_loss: 0.2937 - val_accuracy: 0.9060\n",
            "Epoch 27/30\n",
            "63/63 [==============================] - 22s 350ms/step - loss: 0.0026 - accuracy: 1.0000 - val_loss: 0.2724 - val_accuracy: 0.9110\n",
            "Epoch 28/30\n",
            "63/63 [==============================] - 22s 349ms/step - loss: 0.0021 - accuracy: 1.0000 - val_loss: 0.2887 - val_accuracy: 0.9080\n",
            "Epoch 29/30\n",
            "63/63 [==============================] - 22s 351ms/step - loss: 0.0019 - accuracy: 1.0000 - val_loss: 0.2859 - val_accuracy: 0.9090\n",
            "Epoch 30/30\n",
            "63/63 [==============================] - 22s 350ms/step - loss: 0.0014 - accuracy: 1.0000 - val_loss: 0.2894 - val_accuracy: 0.9130\n"
          ],
          "name": "stdout"
        }
      ]
    },
    {
      "cell_type": "code",
      "metadata": {
        "id": "ZKobP_ijBxc5"
      },
      "source": [
        "def history_chart(history): \n",
        "  acc = history.history['accuracy'] \n",
        "  val_acc = history.history['val_accuracy'] \n",
        "  loss = history.history['loss'] \n",
        "  val_loss = history.history['val_loss'] \n",
        "  epochs = range(len(acc)) \n",
        "  plt.plot(epochs, acc, 'bo', label='Training acc') \n",
        "  plt.plot(epochs, val_acc, 'b', label='Validation acc') \n",
        "  plt.title('Training and validation accuracy') \n",
        "  plt.legend() \n",
        "  plt.figure() \n",
        "  plt.plot(epochs, loss, 'bo', label='Training loss') \n",
        "  plt.plot(epochs, val_loss, 'b', label='Validation loss') \n",
        "  plt.title('Training and validation loss') \n",
        "  plt.legend() \n",
        "  plt.show()"
      ],
      "execution_count": 46,
      "outputs": []
    },
    {
      "cell_type": "code",
      "metadata": {
        "colab": {
          "base_uri": "https://localhost:8080/",
          "height": 545
        },
        "id": "cv77Wj--D6g_",
        "outputId": "673482f2-a198-4bc7-883d-da3d199e3c18"
      },
      "source": [
        "history_chart(history)"
      ],
      "execution_count": 49,
      "outputs": [
        {
          "output_type": "display_data",
          "data": {
            "image/png": "[encoded data removed]",
            "text/plain": [
              "<Figure size 432x288 with 1 Axes>"
            ]
          },
          "metadata": {
            "tags": [],
            "needs_background": "light"
          }
        },
        {
          "output_type": "display_data",
          "data": {
            "image/png": "[encoded data removed]",
            "text/plain": [
              "<Figure size 432x288 with 1 Axes>"
            ]
          },
          "metadata": {
            "tags": [],
            "needs_background": "light"
          }
        }
      ]
    }
  ]
}