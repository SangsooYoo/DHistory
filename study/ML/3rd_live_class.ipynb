{
  "nbformat": 4,
  "nbformat_minor": 0,
  "metadata": {
    "colab": {
      "name": "Untitled0.ipynb",
      "provenance": [],
      "collapsed_sections": [],
      "authorship_tag": "ABX9TyOa1svmowYhSIhjb1KZ0jkK",
      "include_colab_link": true
    },
    "kernelspec": {
      "name": "python3",
      "display_name": "Python 3"
    },
    "language_info": {
      "name": "python"
    },
    "accelerator": "GPU"
  },
  "cells": [
    {
      "cell_type": "markdown",
      "metadata": {
        "id": "view-in-github",
        "colab_type": "text"
      },
      "source": [
        "<a href=\"https://colab.research.google.com/github/SangsooYoo/DHistory/blob/master/study/ML/3rd_live_class.ipynb\" target=\"_parent\"><img src=\"https://colab.research.google.com/assets/colab-badge.svg\" alt=\"Open In Colab\"/></a>"
      ]
    },
    {
      "cell_type": "code",
      "metadata": {
        "colab": {
          "base_uri": "https://localhost:8080/"
        },
        "id": "iwGI-CRJrmLf",
        "outputId": "5d52a8bb-96f4-47a5-d214-f1f109bea261"
      },
      "source": [
        "!nvidia-smi"
      ],
      "execution_count": 2,
      "outputs": [
        {
          "output_type": "stream",
          "text": [
            "Fri Jun 25 10:18:59 2021       \n",
            "+-----------------------------------------------------------------------------+\n",
            "| NVIDIA-SMI 465.27       Driver Version: 460.32.03    CUDA Version: 11.2     |\n",
            "|-------------------------------+----------------------+----------------------+\n",
            "| GPU  Name        Persistence-M| Bus-Id        Disp.A | Volatile Uncorr. ECC |\n",
            "| Fan  Temp  Perf  Pwr:Usage/Cap|         Memory-Usage | GPU-Util  Compute M. |\n",
            "|                               |                      |               MIG M. |\n",
            "|===============================+======================+======================|\n",
            "|   0  Tesla K80           Off  | 00000000:00:04.0 Off |                    0 |\n",
            "| N/A   33C    P8    29W / 149W |      0MiB / 11441MiB |      0%      Default |\n",
            "|                               |                      |                  N/A |\n",
            "+-------------------------------+----------------------+----------------------+\n",
            "                                                                               \n",
            "+-----------------------------------------------------------------------------+\n",
            "| Processes:                                                                  |\n",
            "|  GPU   GI   CI        PID   Type   Process name                  GPU Memory |\n",
            "|        ID   ID                                                   Usage      |\n",
            "|=============================================================================|\n",
            "|  No running processes found                                                 |\n",
            "+-----------------------------------------------------------------------------+\n"
          ],
          "name": "stdout"
        }
      ]
    },
    {
      "cell_type": "code",
      "metadata": {
        "id": "fh79Vum2tHIK"
      },
      "source": [
        "import tensorflow as tf\n",
        "from tensorflow import keras\n",
        "from matplotlib import pyplot as ply"
      ],
      "execution_count": 4,
      "outputs": []
    },
    {
      "cell_type": "markdown",
      "metadata": {
        "id": "6holmAgBr9p7"
      },
      "source": [
        "Transfer Learning을 통한 Cats and Dogs 데이터셋 분류 성능 개선"
      ]
    },
    {
      "cell_type": "markdown",
      "metadata": {
        "id": "p2vIzsoEtAm1"
      },
      "source": [
        "Step 1. input tensor와 target tensor준비"
      ]
    },
    {
      "cell_type": "markdown",
      "metadata": {
        "id": "MUYcFX5StckB"
      },
      "source": [
        "(1) Cats and Dogs 데이터셋 다운로드"
      ]
    },
    {
      "cell_type": "code",
      "metadata": {
        "id": "B3xbsQfws7o4"
      },
      "source": [
        "url ='https://storage.googleapis.com/mledu-datasets/cats_and_dogs_filtered.zip'"
      ],
      "execution_count": 6,
      "outputs": []
    },
    {
      "cell_type": "code",
      "metadata": {
        "colab": {
          "base_uri": "https://localhost:8080/",
          "height": 35
        },
        "id": "dvHBVwhstiZB",
        "outputId": "ff46ee17-834a-4fb5-a72f-4b5644acb0ea"
      },
      "source": [
        "keras.utils.get_file(fname='cats_and_dogs_filtered.zip', \n",
        "                     origin=url, \n",
        "                     extract=True, \n",
        "                     cache_dir='/content')"
      ],
      "execution_count": 11,
      "outputs": [
        {
          "output_type": "execute_result",
          "data": {
            "application/vnd.google.colaboratory.intrinsic+json": {
              "type": "string"
            },
            "text/plain": [
              "'/content/datasets/cats_and_dogs_filtered.zip'"
            ]
          },
          "metadata": {
            "tags": []
          },
          "execution_count": 11
        }
      ]
    },
    {
      "cell_type": "markdown",
      "metadata": {
        "id": "AWPZvxnXuuiX"
      },
      "source": [
        "(2) ImageDataGenerator를 이용해 이미지 파일을 load하기위한 경로 지정"
      ]
    },
    {
      "cell_type": "code",
      "metadata": {
        "id": "qRjESl-Mu1M_"
      },
      "source": [
        "train_dir = '/content/datasets/cats_and_dogs_filtered/train'\n",
        "validation_dir = '/content/datasets/cats_and_dogs_filtered/validation'"
      ],
      "execution_count": 12,
      "outputs": []
    },
    {
      "cell_type": "markdown",
      "metadata": {
        "id": "xcjmeaDCu1th"
      },
      "source": [
        "(3) ImageDataGenerator객체 생성"
      ]
    },
    {
      "cell_type": "code",
      "metadata": {
        "id": "USQ0ZOYFwwIq"
      },
      "source": [
        "from tensorflow.keras.preprocessing.image import ImageDataGenerator\n",
        "train_gen = ImageDataGenerator(rescale=1./255.)\n",
        "validation_gen = ImageDataGenerator(rescale=1./255.) "
      ],
      "execution_count": 15,
      "outputs": []
    },
    {
      "cell_type": "markdown",
      "metadata": {
        "id": "6cGnQIoQwvpC"
      },
      "source": [
        ".flow_from_directory()메서드를 이용하여 학습데이터와 검증데이터를 위한 DirectoryIterator객체 생성"
      ]
    },
    {
      "cell_type": "code",
      "metadata": {
        "colab": {
          "base_uri": "https://localhost:8080/"
        },
        "id": "mzFWCx0fyjUq",
        "outputId": "2a98bb00-b2b4-479a-c0b2-7bbfcdeabe85"
      },
      "source": [
        "train_generator = train_gen.flow_from_directory(directory=train_dir, \n",
        "                              target_size = (224,224),\n",
        "                              batch_size=32,\n",
        "                              shuffle=True,\n",
        "                              class_mode='binary')"
      ],
      "execution_count": 17,
      "outputs": [
        {
          "output_type": "stream",
          "text": [
            "Found 2000 images belonging to 2 classes.\n"
          ],
          "name": "stdout"
        }
      ]
    },
    {
      "cell_type": "code",
      "metadata": {
        "colab": {
          "base_uri": "https://localhost:8080/"
        },
        "id": "ovLCS6Ki0wPD",
        "outputId": "4aa95533-6f0e-4862-d401-24af840f0233"
      },
      "source": [
        "x, y = next(train_generator)\n",
        "x.shape"
      ],
      "execution_count": 22,
      "outputs": [
        {
          "output_type": "execute_result",
          "data": {
            "text/plain": [
              "(32, 224, 224, 3)"
            ]
          },
          "metadata": {
            "tags": []
          },
          "execution_count": 22
        }
      ]
    },
    {
      "cell_type": "code",
      "metadata": {
        "colab": {
          "base_uri": "https://localhost:8080/"
        },
        "id": "X-WJKcB71Glc",
        "outputId": "808f9ae6-0f7f-489c-c3d9-1180162c167b"
      },
      "source": [
        "y.shape"
      ],
      "execution_count": 23,
      "outputs": [
        {
          "output_type": "execute_result",
          "data": {
            "text/plain": [
              "(32,)"
            ]
          },
          "metadata": {
            "tags": []
          },
          "execution_count": 23
        }
      ]
    },
    {
      "cell_type": "code",
      "metadata": {
        "colab": {
          "base_uri": "https://localhost:8080/"
        },
        "id": "pVn4N6Kz1IDG",
        "outputId": "492702b9-e91a-48db-a95a-92b5dc09ae08"
      },
      "source": [
        "y"
      ],
      "execution_count": 24,
      "outputs": [
        {
          "output_type": "execute_result",
          "data": {
            "text/plain": [
              "array([0., 1., 0., 0., 1., 0., 0., 0., 0., 1., 1., 1., 0., 0., 0., 1., 0.,\n",
              "       1., 1., 1., 0., 1., 0., 0., 1., 0., 1., 0., 1., 1., 0., 1.],\n",
              "      dtype=float32)"
            ]
          },
          "metadata": {
            "tags": []
          },
          "execution_count": 24
        }
      ]
    },
    {
      "cell_type": "markdown",
      "metadata": {
        "id": "1elAQmNZwvlK"
      },
      "source": [
        ""
      ]
    },
    {
      "cell_type": "code",
      "metadata": {
        "colab": {
          "base_uri": "https://localhost:8080/"
        },
        "id": "w5fHQ-4T1OnC",
        "outputId": "fbea1050-2e80-4247-902c-4c654dcb5ed8"
      },
      "source": [
        "validation_generator = train_gen.flow_from_directory(directory=validation_dir, \n",
        "                              target_size = (224,224),\n",
        "                              batch_size=32,\n",
        "                              class_mode='binary')"
      ],
      "execution_count": 25,
      "outputs": [
        {
          "output_type": "stream",
          "text": [
            "Found 1000 images belonging to 2 classes.\n"
          ],
          "name": "stdout"
        }
      ]
    },
    {
      "cell_type": "markdown",
      "metadata": {
        "id": "IzP0asNG13lQ"
      },
      "source": [
        "Step 2. VGG16을 Backbone으로 하는 모델 디자인 및 학습정보 설정\n",
        "(1)Pre-trained된 VGG16모델 객체 생성\n",
        "\n",
        "\n",
        "*   imagenet 데이터를 이용해 학습된 모델 객체생성\n",
        "*   classification layer 제외\n",
        "\n"
      ]
    },
    {
      "cell_type": "code",
      "metadata": {
        "id": "QRQaS0dn3HBs"
      },
      "source": [
        "from tensorflow.keras.applications import VGG16"
      ],
      "execution_count": 28,
      "outputs": []
    },
    {
      "cell_type": "code",
      "metadata": {
        "id": "LHljdchS3XlW"
      },
      "source": [
        "conv_base = VGG16(include_top=False, weights='imagenet', input_shape=(224, 224, 3))"
      ],
      "execution_count": 35,
      "outputs": []
    },
    {
      "cell_type": "code",
      "metadata": {
        "id": "0DL1YaL94-Dk"
      },
      "source": [
        "model = keras.models.Sequential()\n",
        "model.add(conv_base)\n",
        "model.add(keras.layers.Flatten())\n",
        "model.add(keras.layers.Dense(units=256, activation='relu'))\n",
        "model.add(keras.layers.Dense(units=1, activation='sigmoid'))"
      ],
      "execution_count": 36,
      "outputs": []
    }
  ]
}